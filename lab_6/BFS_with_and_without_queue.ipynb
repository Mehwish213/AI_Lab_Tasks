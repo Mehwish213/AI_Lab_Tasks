{
 "cells": [
  {
   "cell_type": "markdown",
   "id": "75a27700",
   "metadata": {},
   "source": [
    "BFS with QUEUE"
   ]
  },
  {
   "cell_type": "code",
   "execution_count": 1,
   "id": "b1d18c39",
   "metadata": {},
   "outputs": [
    {
     "name": "stdout",
     "output_type": "stream",
     "text": [
      "['A', 'B', 'C', 'D', 'E', 'F']\n"
     ]
    }
   ],
   "source": [
    "tree = {\n",
    "    'A': ['B', 'C'],\n",
    "    'B': ['D', 'E'],\n",
    "    'C': ['F'],\n",
    "    'D': [],\n",
    "    'E': [],\n",
    "    'F': ['G'],\n",
    "    'G': []\n",
    "}\n",
    "\n",
    "def bfs_with_queue(start, goal):\n",
    "    visited = []\n",
    "    queue = [start]\n",
    "\n",
    "    while queue:\n",
    "        node = queue.pop(0)\n",
    "        if node not in visited:\n",
    "            visited.append(node)\n",
    "            if node == goal:\n",
    "                break\n",
    "            for child in tree[node]:\n",
    "                if child not in visited:\n",
    "                    queue.append(child)\n",
    "    return visited\n",
    "\n",
    "print(bfs_with_queue('A', 'F'))"
   ]
  },
  {
   "cell_type": "markdown",
   "id": "cbaefeb0",
   "metadata": {},
   "source": [
    "BFS without QUEUE"
   ]
  },
  {
   "cell_type": "code",
   "execution_count": 2,
   "id": "9964c422",
   "metadata": {},
   "outputs": [
    {
     "name": "stdout",
     "output_type": "stream",
     "text": [
      "['A', 'B', 'C', 'D', 'E', 'F']\n"
     ]
    }
   ],
   "source": [
    "tree = {\n",
    "    'A': ['B', 'C'],\n",
    "    'B': ['D', 'E'],\n",
    "    'C': ['F'],\n",
    "    'D': [],\n",
    "    'E': [],\n",
    "    'F': ['G'],\n",
    "    'G': []\n",
    "}\n",
    "\n",
    "def bfs_without_queue(start, goal):\n",
    "    visited = []\n",
    "    current_level = [start]\n",
    "\n",
    "    while current_level:\n",
    "        next_level = []\n",
    "        for node in current_level:\n",
    "            if node not in visited:\n",
    "                visited.append(node)\n",
    "                if node == goal:\n",
    "                    return visited\n",
    "                next_level.extend(tree[node])\n",
    "        current_level = next_level\n",
    "    return visited\n",
    "\n",
    "print(bfs_without_queue('A', 'F'))"
   ]
  }
 ],
 "metadata": {
  "kernelspec": {
   "display_name": "Python 3",
   "language": "python",
   "name": "python3"
  },
  "language_info": {
   "codemirror_mode": {
    "name": "ipython",
    "version": 3
   },
   "file_extension": ".py",
   "mimetype": "text/x-python",
   "name": "python",
   "nbconvert_exporter": "python",
   "pygments_lexer": "ipython3",
   "version": "3.12.3"
  }
 },
 "nbformat": 4,
 "nbformat_minor": 5
}
