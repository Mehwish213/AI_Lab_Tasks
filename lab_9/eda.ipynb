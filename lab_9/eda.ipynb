{
 "cells": [
  {
   "cell_type": "markdown",
   "id": "652c0bb1",
   "metadata": {},
   "source": [
    "# AI Lab 9\n",
    "### Name: Mehwish\n",
    "### Class: BSDS 3A\n",
    "### Roll no: 061"
   ]
  },
  {
   "cell_type": "markdown",
   "id": "b4704d6e",
   "metadata": {},
   "source": [
    "<div class=\"alert alert-block alert-info\">\n",
    "import <b> Libraries </b>"
   ]
  },
  {
   "cell_type": "markdown",
   "id": "3874f953",
   "metadata": {},
   "source": [
    "<div class=\"alert alert-block alert-info\">\n",
    " <b> 1. Data Gathering  <br> 2. Data Loading</b>"
   ]
  },
  {
   "cell_type": "code",
   "execution_count": 84,
   "id": "f00500f1",
   "metadata": {},
   "outputs": [],
   "source": [
    "import pandas as pd"
   ]
  },
  {
   "cell_type": "code",
   "execution_count": 85,
   "id": "06284ab8",
   "metadata": {},
   "outputs": [
    {
     "name": "stdout",
     "output_type": "stream",
     "text": [
      "         Date        Open        High         Low       Close   Adj Close  \\\n",
      "0  2018-02-05  262.000000  267.899994  250.029999  254.259995  254.259995   \n",
      "1  2018-02-06  247.699997  266.700012  245.000000  265.720001  265.720001   \n",
      "2  2018-02-07  266.579987  272.450012  264.329987  264.559998  264.559998   \n",
      "3  2018-02-08  267.079987  267.619995  250.000000  250.100006  250.100006   \n",
      "4  2018-02-09  253.850006  255.800003  236.110001  249.470001  249.470001   \n",
      "\n",
      "     Volume  \n",
      "0  11896100  \n",
      "1  12595800  \n",
      "2   8981500  \n",
      "3   9306700  \n",
      "4  16906900  \n"
     ]
    }
   ],
   "source": [
    "df = pd.read_csv('data.csv')\n",
    "print(df.head())"
   ]
  },
  {
   "cell_type": "markdown",
   "id": "7b26ba68",
   "metadata": {},
   "source": [
    "<div class=\"alert alert-block alert-info\">\n",
    " <b> Data exploration </b>\n",
    " </div>"
   ]
  },
  {
   "cell_type": "code",
   "execution_count": 86,
   "id": "45b202a3",
   "metadata": {},
   "outputs": [
    {
     "data": {
      "text/plain": [
       "Index(['Date', 'Open', 'High', 'Low', 'Close', 'Adj Close', 'Volume'], dtype='object')"
      ]
     },
     "execution_count": 86,
     "metadata": {},
     "output_type": "execute_result"
    }
   ],
   "source": [
    "df.columns"
   ]
  },
  {
   "cell_type": "code",
   "execution_count": 87,
   "id": "7face91f",
   "metadata": {},
   "outputs": [
    {
     "data": {
      "text/html": [
       "<div>\n",
       "<style scoped>\n",
       "    .dataframe tbody tr th:only-of-type {\n",
       "        vertical-align: middle;\n",
       "    }\n",
       "\n",
       "    .dataframe tbody tr th {\n",
       "        vertical-align: top;\n",
       "    }\n",
       "\n",
       "    .dataframe thead th {\n",
       "        text-align: right;\n",
       "    }\n",
       "</style>\n",
       "<table border=\"1\" class=\"dataframe\">\n",
       "  <thead>\n",
       "    <tr style=\"text-align: right;\">\n",
       "      <th></th>\n",
       "      <th>Date</th>\n",
       "      <th>Open</th>\n",
       "      <th>High</th>\n",
       "      <th>Low</th>\n",
       "      <th>Close</th>\n",
       "      <th>Adj Close</th>\n",
       "      <th>Volume</th>\n",
       "    </tr>\n",
       "  </thead>\n",
       "  <tbody>\n",
       "    <tr>\n",
       "      <th>0</th>\n",
       "      <td>2018-02-05</td>\n",
       "      <td>262.000000</td>\n",
       "      <td>267.899994</td>\n",
       "      <td>250.029999</td>\n",
       "      <td>254.259995</td>\n",
       "      <td>254.259995</td>\n",
       "      <td>11896100</td>\n",
       "    </tr>\n",
       "    <tr>\n",
       "      <th>1</th>\n",
       "      <td>2018-02-06</td>\n",
       "      <td>247.699997</td>\n",
       "      <td>266.700012</td>\n",
       "      <td>245.000000</td>\n",
       "      <td>265.720001</td>\n",
       "      <td>265.720001</td>\n",
       "      <td>12595800</td>\n",
       "    </tr>\n",
       "    <tr>\n",
       "      <th>2</th>\n",
       "      <td>2018-02-07</td>\n",
       "      <td>266.579987</td>\n",
       "      <td>272.450012</td>\n",
       "      <td>264.329987</td>\n",
       "      <td>264.559998</td>\n",
       "      <td>264.559998</td>\n",
       "      <td>8981500</td>\n",
       "    </tr>\n",
       "    <tr>\n",
       "      <th>3</th>\n",
       "      <td>2018-02-08</td>\n",
       "      <td>267.079987</td>\n",
       "      <td>267.619995</td>\n",
       "      <td>250.000000</td>\n",
       "      <td>250.100006</td>\n",
       "      <td>250.100006</td>\n",
       "      <td>9306700</td>\n",
       "    </tr>\n",
       "    <tr>\n",
       "      <th>4</th>\n",
       "      <td>2018-02-09</td>\n",
       "      <td>253.850006</td>\n",
       "      <td>255.800003</td>\n",
       "      <td>236.110001</td>\n",
       "      <td>249.470001</td>\n",
       "      <td>249.470001</td>\n",
       "      <td>16906900</td>\n",
       "    </tr>\n",
       "  </tbody>\n",
       "</table>\n",
       "</div>"
      ],
      "text/plain": [
       "         Date        Open        High         Low       Close   Adj Close  \\\n",
       "0  2018-02-05  262.000000  267.899994  250.029999  254.259995  254.259995   \n",
       "1  2018-02-06  247.699997  266.700012  245.000000  265.720001  265.720001   \n",
       "2  2018-02-07  266.579987  272.450012  264.329987  264.559998  264.559998   \n",
       "3  2018-02-08  267.079987  267.619995  250.000000  250.100006  250.100006   \n",
       "4  2018-02-09  253.850006  255.800003  236.110001  249.470001  249.470001   \n",
       "\n",
       "     Volume  \n",
       "0  11896100  \n",
       "1  12595800  \n",
       "2   8981500  \n",
       "3   9306700  \n",
       "4  16906900  "
      ]
     },
     "execution_count": 87,
     "metadata": {},
     "output_type": "execute_result"
    }
   ],
   "source": [
    "df.head()"
   ]
  },
  {
   "cell_type": "code",
   "execution_count": 88,
   "id": "52115e9b",
   "metadata": {},
   "outputs": [
    {
     "data": {
      "text/plain": [
       "<bound method NDFrame.tail of             Date        Open        High         Low       Close   Adj Close  \\\n",
       "0     2018-02-05  262.000000  267.899994  250.029999  254.259995  254.259995   \n",
       "1     2018-02-06  247.699997  266.700012  245.000000  265.720001  265.720001   \n",
       "2     2018-02-07  266.579987  272.450012  264.329987  264.559998  264.559998   \n",
       "3     2018-02-08  267.079987  267.619995  250.000000  250.100006  250.100006   \n",
       "4     2018-02-09  253.850006  255.800003  236.110001  249.470001  249.470001   \n",
       "...          ...         ...         ...         ...         ...         ...   \n",
       "1004  2022-01-31  401.970001  427.700012  398.200012  427.140015  427.140015   \n",
       "1005  2022-02-01  432.959991  458.480011  425.540009  457.130005  457.130005   \n",
       "1006  2022-02-02  448.250000  451.980011  426.480011  429.480011  429.480011   \n",
       "1007  2022-02-03  421.440002  429.260010  404.279999  405.600006  405.600006   \n",
       "1008  2022-02-04  407.309998  412.769989  396.640015  410.170013  410.170013   \n",
       "\n",
       "        Volume  \n",
       "0     11896100  \n",
       "1     12595800  \n",
       "2      8981500  \n",
       "3      9306700  \n",
       "4     16906900  \n",
       "...        ...  \n",
       "1004  20047500  \n",
       "1005  22542300  \n",
       "1006  14346000  \n",
       "1007   9905200  \n",
       "1008   7782400  \n",
       "\n",
       "[1009 rows x 7 columns]>"
      ]
     },
     "execution_count": 88,
     "metadata": {},
     "output_type": "execute_result"
    }
   ],
   "source": [
    "df.tail"
   ]
  },
  {
   "cell_type": "code",
   "execution_count": 89,
   "id": "7cd9deab",
   "metadata": {},
   "outputs": [
    {
     "data": {
      "text/html": [
       "<div>\n",
       "<style scoped>\n",
       "    .dataframe tbody tr th:only-of-type {\n",
       "        vertical-align: middle;\n",
       "    }\n",
       "\n",
       "    .dataframe tbody tr th {\n",
       "        vertical-align: top;\n",
       "    }\n",
       "\n",
       "    .dataframe thead th {\n",
       "        text-align: right;\n",
       "    }\n",
       "</style>\n",
       "<table border=\"1\" class=\"dataframe\">\n",
       "  <thead>\n",
       "    <tr style=\"text-align: right;\">\n",
       "      <th></th>\n",
       "      <th>Open</th>\n",
       "      <th>High</th>\n",
       "      <th>Low</th>\n",
       "      <th>Close</th>\n",
       "      <th>Adj Close</th>\n",
       "      <th>Volume</th>\n",
       "    </tr>\n",
       "  </thead>\n",
       "  <tbody>\n",
       "    <tr>\n",
       "      <th>count</th>\n",
       "      <td>1009.000000</td>\n",
       "      <td>1009.000000</td>\n",
       "      <td>1009.000000</td>\n",
       "      <td>1009.000000</td>\n",
       "      <td>1009.000000</td>\n",
       "      <td>1.009000e+03</td>\n",
       "    </tr>\n",
       "    <tr>\n",
       "      <th>mean</th>\n",
       "      <td>419.059673</td>\n",
       "      <td>425.320703</td>\n",
       "      <td>412.374044</td>\n",
       "      <td>419.000733</td>\n",
       "      <td>419.000733</td>\n",
       "      <td>7.570685e+06</td>\n",
       "    </tr>\n",
       "    <tr>\n",
       "      <th>std</th>\n",
       "      <td>108.537532</td>\n",
       "      <td>109.262960</td>\n",
       "      <td>107.555867</td>\n",
       "      <td>108.289999</td>\n",
       "      <td>108.289999</td>\n",
       "      <td>5.465535e+06</td>\n",
       "    </tr>\n",
       "    <tr>\n",
       "      <th>min</th>\n",
       "      <td>233.919998</td>\n",
       "      <td>250.649994</td>\n",
       "      <td>231.229996</td>\n",
       "      <td>233.880005</td>\n",
       "      <td>233.880005</td>\n",
       "      <td>1.144000e+06</td>\n",
       "    </tr>\n",
       "    <tr>\n",
       "      <th>25%</th>\n",
       "      <td>331.489990</td>\n",
       "      <td>336.299988</td>\n",
       "      <td>326.000000</td>\n",
       "      <td>331.619995</td>\n",
       "      <td>331.619995</td>\n",
       "      <td>4.091900e+06</td>\n",
       "    </tr>\n",
       "    <tr>\n",
       "      <th>50%</th>\n",
       "      <td>377.769989</td>\n",
       "      <td>383.010010</td>\n",
       "      <td>370.880005</td>\n",
       "      <td>378.670013</td>\n",
       "      <td>378.670013</td>\n",
       "      <td>5.934500e+06</td>\n",
       "    </tr>\n",
       "    <tr>\n",
       "      <th>75%</th>\n",
       "      <td>509.130005</td>\n",
       "      <td>515.630005</td>\n",
       "      <td>502.529999</td>\n",
       "      <td>509.079987</td>\n",
       "      <td>509.079987</td>\n",
       "      <td>9.322400e+06</td>\n",
       "    </tr>\n",
       "    <tr>\n",
       "      <th>max</th>\n",
       "      <td>692.349976</td>\n",
       "      <td>700.989990</td>\n",
       "      <td>686.090027</td>\n",
       "      <td>691.690002</td>\n",
       "      <td>691.690002</td>\n",
       "      <td>5.890430e+07</td>\n",
       "    </tr>\n",
       "  </tbody>\n",
       "</table>\n",
       "</div>"
      ],
      "text/plain": [
       "              Open         High          Low        Close    Adj Close  \\\n",
       "count  1009.000000  1009.000000  1009.000000  1009.000000  1009.000000   \n",
       "mean    419.059673   425.320703   412.374044   419.000733   419.000733   \n",
       "std     108.537532   109.262960   107.555867   108.289999   108.289999   \n",
       "min     233.919998   250.649994   231.229996   233.880005   233.880005   \n",
       "25%     331.489990   336.299988   326.000000   331.619995   331.619995   \n",
       "50%     377.769989   383.010010   370.880005   378.670013   378.670013   \n",
       "75%     509.130005   515.630005   502.529999   509.079987   509.079987   \n",
       "max     692.349976   700.989990   686.090027   691.690002   691.690002   \n",
       "\n",
       "             Volume  \n",
       "count  1.009000e+03  \n",
       "mean   7.570685e+06  \n",
       "std    5.465535e+06  \n",
       "min    1.144000e+06  \n",
       "25%    4.091900e+06  \n",
       "50%    5.934500e+06  \n",
       "75%    9.322400e+06  \n",
       "max    5.890430e+07  "
      ]
     },
     "execution_count": 89,
     "metadata": {},
     "output_type": "execute_result"
    }
   ],
   "source": [
    "df.describe()"
   ]
  },
  {
   "cell_type": "code",
   "execution_count": 90,
   "id": "e7a8836d",
   "metadata": {},
   "outputs": [
    {
     "name": "stdout",
     "output_type": "stream",
     "text": [
      "<class 'pandas.core.frame.DataFrame'>\n",
      "RangeIndex: 1009 entries, 0 to 1008\n",
      "Data columns (total 7 columns):\n",
      " #   Column     Non-Null Count  Dtype  \n",
      "---  ------     --------------  -----  \n",
      " 0   Date       1009 non-null   object \n",
      " 1   Open       1009 non-null   float64\n",
      " 2   High       1009 non-null   float64\n",
      " 3   Low        1009 non-null   float64\n",
      " 4   Close      1009 non-null   float64\n",
      " 5   Adj Close  1009 non-null   float64\n",
      " 6   Volume     1009 non-null   int64  \n",
      "dtypes: float64(5), int64(1), object(1)\n",
      "memory usage: 55.3+ KB\n"
     ]
    }
   ],
   "source": [
    "df.info()"
   ]
  },
  {
   "cell_type": "code",
   "execution_count": 91,
   "id": "ff7b1154",
   "metadata": {},
   "outputs": [
    {
     "data": {
      "text/plain": [
       "array([11896100, 12595800,  8981500, ..., 14346000,  9905200,  7782400],\n",
       "      shape=(1005,))"
      ]
     },
     "execution_count": 91,
     "metadata": {},
     "output_type": "execute_result"
    }
   ],
   "source": [
    "df[\"Volume\"].unique()"
   ]
  },
  {
   "cell_type": "code",
   "execution_count": 92,
   "id": "cddfa3b6",
   "metadata": {},
   "outputs": [
    {
     "data": {
      "text/plain": [
       "Date         1009\n",
       "Open          976\n",
       "High          983\n",
       "Low           989\n",
       "Close         988\n",
       "Adj Close     988\n",
       "Volume       1005\n",
       "dtype: int64"
      ]
     },
     "execution_count": 92,
     "metadata": {},
     "output_type": "execute_result"
    }
   ],
   "source": [
    "df.nunique()"
   ]
  },
  {
   "cell_type": "code",
   "execution_count": 93,
   "id": "f0149154",
   "metadata": {},
   "outputs": [
    {
     "data": {
      "text/plain": [
       "Date         0\n",
       "Open         0\n",
       "High         0\n",
       "Low          0\n",
       "Close        0\n",
       "Adj Close    0\n",
       "Volume       0\n",
       "dtype: int64"
      ]
     },
     "execution_count": 93,
     "metadata": {},
     "output_type": "execute_result"
    }
   ],
   "source": [
    "df.isnull().sum()"
   ]
  },
  {
   "cell_type": "code",
   "execution_count": 94,
   "id": "d07f4e01",
   "metadata": {},
   "outputs": [
    {
     "data": {
      "text/plain": [
       "Date         1009\n",
       "Open         1009\n",
       "High         1009\n",
       "Low          1009\n",
       "Close        1009\n",
       "Adj Close    1009\n",
       "Volume       1009\n",
       "dtype: int64"
      ]
     },
     "execution_count": 94,
     "metadata": {},
     "output_type": "execute_result"
    }
   ],
   "source": [
    "df.count()"
   ]
  }
 ],
 "metadata": {
  "kernelspec": {
   "display_name": "Python 3",
   "language": "python",
   "name": "python3"
  },
  "language_info": {
   "codemirror_mode": {
    "name": "ipython",
    "version": 3
   },
   "file_extension": ".py",
   "mimetype": "text/x-python",
   "name": "python",
   "nbconvert_exporter": "python",
   "pygments_lexer": "ipython3",
   "version": "3.12.3"
  }
 },
 "nbformat": 4,
 "nbformat_minor": 5
}
