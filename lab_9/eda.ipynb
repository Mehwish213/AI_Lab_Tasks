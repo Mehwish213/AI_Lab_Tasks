{
 "cells": [
  {
   "cell_type": "markdown",
   "id": "652c0bb1",
   "metadata": {},
   "source": [
    "# AI Lab 8\n",
    "### Name: Mehwish\n",
    "### Class: BSDS 3A\n",
    "### Roll no: 061"
   ]
  },
  {
   "cell_type": "markdown",
   "id": "b4704d6e",
   "metadata": {},
   "source": [
    "<div class=\"alert alert-block alert-info\">\n",
    "import <b> Libraries </b>"
   ]
  },
  {
   "cell_type": "markdown",
   "id": "3874f953",
   "metadata": {},
   "source": [
    "<div class=\"alert alert-block alert-info\">\n",
    " <b> 1. Data gathering  <br> 2. Data loading</b>"
   ]
  },
  {
   "cell_type": "code",
   "execution_count": null,
   "id": "f00500f1",
   "metadata": {},
   "outputs": [
    {
     "ename": "",
     "evalue": "",
     "output_type": "error",
     "traceback": [
      "\u001b[1;31mFailed to start the Kernel. \n",
      "\u001b[1;31mUnable to start Kernel 'Python 3.12.3' due to a timeout waiting for the ports to get used. \n",
      "\u001b[1;31mView Jupyter <a href='command:jupyter.viewOutput'>log</a> for further details."
     ]
    }
   ],
   "source": [
    "import pandas as pd"
   ]
  },
  {
   "cell_type": "code",
   "execution_count": null,
   "id": "06284ab8",
   "metadata": {},
   "outputs": [],
   "source": [
    "df = pd.read_csv('data.csv')\n",
    "print(df.head())"
   ]
  },
  {
   "cell_type": "markdown",
   "id": "7b26ba68",
   "metadata": {},
   "source": [
    "<div class=\"alert alert-block alert-info\">\n",
    " <b> Data exportation </b>\n",
    " </div>"
   ]
  },
  {
   "cell_type": "code",
   "execution_count": null,
   "id": "e24b4323",
   "metadata": {},
   "outputs": [],
   "source": [
    "df.rows"
   ]
  },
  {
   "cell_type": "code",
   "execution_count": null,
   "id": "45b202a3",
   "metadata": {},
   "outputs": [],
   "source": [
    "df.columns"
   ]
  },
  {
   "cell_type": "code",
   "execution_count": null,
   "id": "7face91f",
   "metadata": {},
   "outputs": [],
   "source": [
    "df.head()"
   ]
  },
  {
   "cell_type": "code",
   "execution_count": null,
   "id": "f5a3a8fe",
   "metadata": {},
   "outputs": [],
   "source": [
    "df.counts()"
   ]
  },
  {
   "cell_type": "code",
   "execution_count": null,
   "id": "52115e9b",
   "metadata": {},
   "outputs": [],
   "source": [
    "df.tail"
   ]
  },
  {
   "cell_type": "code",
   "execution_count": null,
   "id": "7cd9deab",
   "metadata": {},
   "outputs": [],
   "source": [
    "df.describe"
   ]
  }
 ],
 "metadata": {
  "kernelspec": {
   "display_name": "Python 3",
   "language": "python",
   "name": "python3"
  },
  "language_info": {
   "name": "python",
   "version": "3.12.3"
  }
 },
 "nbformat": 4,
 "nbformat_minor": 5
}
